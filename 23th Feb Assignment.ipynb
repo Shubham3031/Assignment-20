{
 "cells": [
  {
   "cell_type": "code",
   "execution_count": 7,
   "id": "3a0aaa8b-0805-4e43-a2fd-c3fc59d0b898",
   "metadata": {},
   "outputs": [
    {
     "name": "stdout",
     "output_type": "stream",
     "text": [
      "0     4\n",
      "1     8\n",
      "2    15\n",
      "3    16\n",
      "4    23\n",
      "5    42\n",
      "dtype: int64\n"
     ]
    }
   ],
   "source": [
    "# 1.Ans.\n",
    "\n",
    "import pandas as pd\n",
    "series = pd.Series([4, 8, 15, 16, 23, 42])\n",
    "print(series)\n"
   ]
  },
  {
   "cell_type": "code",
   "execution_count": 5,
   "id": "bfbdf3d9-84a3-4ff8-9334-233b2c98f835",
   "metadata": {},
   "outputs": [
    {
     "name": "stdout",
     "output_type": "stream",
     "text": [
      "0     1\n",
      "1     2\n",
      "2     3\n",
      "3     4\n",
      "4     5\n",
      "5     6\n",
      "6     7\n",
      "7     8\n",
      "8     9\n",
      "9    10\n",
      "dtype: int64\n"
     ]
    }
   ],
   "source": [
    "# 2.Ans.\n",
    "\n",
    "import pandas as pd\n",
    "list_x = [1,2,3,4,5,6,7,8,9,10]\n",
    "series = pd.Series(list_x)\n",
    "print(series)"
   ]
  },
  {
   "cell_type": "code",
   "execution_count": 8,
   "id": "be4e42e3-2850-48e8-8b38-642022d64741",
   "metadata": {},
   "outputs": [
    {
     "name": "stdout",
     "output_type": "stream",
     "text": [
      "     Name  Age  Gender\n",
      "0   Alice   25  Female\n",
      "1     Bob   30    Male\n",
      "2  Claire   27  Female\n"
     ]
    }
   ],
   "source": [
    "# 3.Ans.\n",
    "\n",
    "import pandas as pd\n",
    "data = {'Name': ['Alice','Bob','Claire'],\n",
    "        'Age' : [25,30,27],\n",
    "        'Gender' : ['Female','Male','Female']}\n",
    "df  = pd.DataFrame(data)\n",
    "print(df)\n"
   ]
  },
  {
   "cell_type": "code",
   "execution_count": 9,
   "id": "4e698114-558d-4981-ae8f-aa15b34b7b82",
   "metadata": {},
   "outputs": [
    {
     "name": "stdout",
     "output_type": "stream",
     "text": [
      "0     4\n",
      "1     8\n",
      "2    15\n",
      "3    16\n",
      "4    23\n",
      "5    42\n",
      "dtype: int64\n",
      "     Name  Age  Gender\n",
      "0   Alice   25  Female\n",
      "1     Bob   30    Male\n",
      "2  Claire   27  Female\n"
     ]
    }
   ],
   "source": [
    "# 4.Ans.\n",
    "\n",
    "\"\"\"\n",
    "A DataFrame is a two-dimensional labeled data structure in pandas that can contain columns\n",
    "of different data types. It is similar to a spreadsheet or SQL table, where each column can be\n",
    "thought of as a Series. \n",
    "\n",
    "The main difference between a DataFrame and a Series is that a\n",
    "Series represents a single column of data, while a DataFrame can represent \n",
    "multiple columns of data, as well as row indices.\n",
    "\"\"\"\n",
    "\n",
    "import pandas as pd\n",
    "\n",
    "series = pd.Series([4, 8, 15, 16, 23, 42])\n",
    "\n",
    "df  = pd.DataFrame({'Name': ['Alice','Bob','Claire'],\n",
    "        'Age' : [25,30,27],\n",
    "        'Gender' : ['Female','Male','Female']})\n",
    "print(series)\n",
    "print(df)\n",
    "\n",
    "\n",
    "\n",
    "\n"
   ]
  },
  {
   "cell_type": "code",
   "execution_count": 14,
   "id": "0675bb8e-6f86-4fcd-a1eb-b55e0f8ccb09",
   "metadata": {},
   "outputs": [
    {
     "name": "stdout",
     "output_type": "stream",
     "text": [
      "     Name  Age  Gender\n",
      "0   Alice   25  Female\n",
      "1     Bob   30    Male\n",
      "2  Claire   27  Female\n"
     ]
    },
    {
     "data": {
      "text/html": [
       "<div>\n",
       "<style scoped>\n",
       "    .dataframe tbody tr th:only-of-type {\n",
       "        vertical-align: middle;\n",
       "    }\n",
       "\n",
       "    .dataframe tbody tr th {\n",
       "        vertical-align: top;\n",
       "    }\n",
       "\n",
       "    .dataframe thead th {\n",
       "        text-align: right;\n",
       "    }\n",
       "</style>\n",
       "<table border=\"1\" class=\"dataframe\">\n",
       "  <thead>\n",
       "    <tr style=\"text-align: right;\">\n",
       "      <th></th>\n",
       "      <th>Name</th>\n",
       "      <th>Age</th>\n",
       "      <th>Gender</th>\n",
       "    </tr>\n",
       "  </thead>\n",
       "  <tbody>\n",
       "    <tr>\n",
       "      <th>0</th>\n",
       "      <td>Alice</td>\n",
       "      <td>25</td>\n",
       "      <td>Female</td>\n",
       "    </tr>\n",
       "  </tbody>\n",
       "</table>\n",
       "</div>"
      ],
      "text/plain": [
       "    Name  Age  Gender\n",
       "0  Alice   25  Female"
      ]
     },
     "execution_count": 14,
     "metadata": {},
     "output_type": "execute_result"
    }
   ],
   "source": [
    "# 5.Ans.\n",
    "\"\"\"\n",
    "Pandas provides a wide range of functions for manipulating data in a DataFrame. Some common functions include:\n",
    "\n",
    "head() and tail(): These functions allow you to view the first or last n rows of a DataFrame,\n",
    "respectively. For example, you might use df.head() to view the first 5 rows of a DataFrame df.\n",
    "\n",
    "describe(): This function provides summary statistics for each numeric column in a DataFrame, \n",
    "such as the mean, standard deviation, and quartiles. For example, you might use df.describe() \n",
    "to get an overview of the central tendencies and spread of your data.\n",
    "\n",
    "info(): This function displays information about a DataFrame, including the data types of each\n",
    "column and the number of non-null values. For example, you might use df.info() to check the \n",
    "completeness and quality of your data.\n",
    "\n",
    "sort_values(): This function allows you to sort a DataFrame by one or more columns. \n",
    "For example, you might use df.sort_values('column_name') to sort a DataFrame by a single column,\n",
    "or df.sort_values(['column_1', 'column_2']) to sort by multiple columns.\n",
    "\n",
    "groupby(): This function allows you to group a DataFrame by one or more columns and perform\n",
    "calculations on each group. For example, you might use df.groupby('column_name').mean() to\n",
    "calculate the mean value of each group.\n",
    "\"\"\"\n",
    "\n",
    "# Example:\n",
    "\n",
    "import pandas as pd\n",
    "data = {'Name': ['Alice','Bob','Claire'],\n",
    "        'Age' : [25,30,27],\n",
    "        'Gender' : ['Female','Male','Female']}\n",
    "df  = pd.DataFrame(data)\n",
    "print(df)\n",
    "\n",
    "df.head(1)\n",
    "\n"
   ]
  },
  {
   "cell_type": "code",
   "execution_count": null,
   "id": "604e3a43-7442-4c0a-ae3e-2cac4f3bf0fb",
   "metadata": {},
   "outputs": [],
   "source": [
    "# 6.Ans.\n",
    "\n",
    "Both Series and DataFrame are mutable in nature in pandas, \n",
    "while Panel is considered deprecated and its use is not recommended."
   ]
  },
  {
   "cell_type": "code",
   "execution_count": 19,
   "id": "f19ffa39-6242-4911-9d73-b93853c44b49",
   "metadata": {},
   "outputs": [
    {
     "name": "stdout",
     "output_type": "stream",
     "text": [
      "      Name  Age  Gender\n",
      "0    Alice   25  Female\n",
      "1      Bob   30    Male\n",
      "2  Charlie   27  Female\n"
     ]
    }
   ],
   "source": [
    "# 7.Ans.\n",
    "\n",
    "\"\"\"\n",
    "In this example, we first create three Series - names, ages, and\n",
    "genders - to represent the data for each column of the DataFrame. \n",
    "We then combine these Series into a DataFrame using the pd.DataFrame()\n",
    "The pd.DataFrame() constructor takes a dictionary as its argument, where the keys\n",
    "represent the column names and the values represent the Series that contain the data \n",
    "for each column. In our example, we pass a dictionary with keys 'Name', 'Age', and 'Gender',\n",
    "and values names, ages, and genders, respectively.\n",
    "\n",
    "Finally, we print the resulting DataFrame using the print() function. \n",
    "The resulting DataFrame has the columns 'Name', 'Age', and 'Gender', and \n",
    "the rows correspond to the data in the Series.\n",
    "\n",
    "\"\"\"\n",
    "\n",
    "import pandas as pd\n",
    "\n",
    "names = pd.Series(['Alice', 'Bob', 'Charlie'])\n",
    "ages = pd.Series([25, 30, 27])\n",
    "genders = pd.Series(['Female', 'Male', 'Female'])\n",
    "\n",
    "df = pd.DataFrame({'Name': names, 'Age': ages, 'Gender': genders})\n",
    "print(df)\n",
    "\n",
    "\n"
   ]
  }
 ],
 "metadata": {
  "kernelspec": {
   "display_name": "Python 3 (ipykernel)",
   "language": "python",
   "name": "python3"
  },
  "language_info": {
   "codemirror_mode": {
    "name": "ipython",
    "version": 3
   },
   "file_extension": ".py",
   "mimetype": "text/x-python",
   "name": "python",
   "nbconvert_exporter": "python",
   "pygments_lexer": "ipython3",
   "version": "3.10.6"
  }
 },
 "nbformat": 4,
 "nbformat_minor": 5
}
